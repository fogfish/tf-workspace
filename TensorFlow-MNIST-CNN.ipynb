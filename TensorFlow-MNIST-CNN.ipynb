{
 "cells": [
  {
   "cell_type": "markdown",
   "metadata": {},
   "source": [
    "# Tutorial: CNN with MNIST dataset\n"
   ]
  },
  {
   "cell_type": "markdown",
   "metadata": {},
   "source": [
    "## Background\n",
    "\n",
    "The following blog post give a basic introduction to CNN and how it works. \n",
    "\n",
    "1. [Deep Learning and Convolutional Neural Networks](https://medium.com/@ageitgey/machine-learning-is-fun-part-3-deep-learning-and-convolutional-neural-networks-f40359318721)\n",
    "\n",
    "\n",
    "The practical application of CNN is explained as registration plate recognition and captcha solving\n",
    "\n",
    "1. [Number plate recognition with Tensorflow](https://matthewearl.github.io/2016/05/06/cnn-anpr/)\n",
    "1. [CAPTCHA Recognition with Active Deep Learning](https://vision.in.tum.de/_media/spezial/bib/stark-gcpr15.pdf)\n",
    "\n",
    "\n",
    "The TensorFlow has a tutorial for CNN implementation\n",
    "\n",
    "1. [Deep MNIST for Experts](https://www.tensorflow.org/get_started/mnist/pros)\n"
   ]
  },
  {
   "cell_type": "markdown",
   "metadata": {},
   "source": [
    "# Network (CNN)\n",
    "\n",
    "The tutorial uses network architecture as it is defined by \"Deep MNIST for Experts\".\n",
    "\n",
    "```\n",
    "|-- Input --|--- Layer 1 ---|--- Layer 2 ---|--- Layer 3 ---|-- Dropout --|-- Output --|\n",
    "  \n",
    "    Image      Convolution      Convolution       Fully           P          Classes\n",
    "   28x28x1   1 -> 5x5 -> 32  32 -> 5x5 -> 64    Connected        0.5           10\n",
    "                Max Pool         Max Pool         1024\n",
    "                  2x2              2x2\n",
    "```\n",
    "\n",
    "The input image is 4d tensor. MNIST is composed of monochrome 28x28 pixel images. The desired shape of input layer is `[batch_size, width, height, channels]` (see [here for details](https://www.tensorflow.org/versions/master/tutorials/layers)):\n",
    "* `batch_size` size of the subset of examples to use when performing gradient descent during training.\n",
    "* `width` image width\n",
    "* `height` images height\n",
    "* `channels` number of channels in the images (1 - monochrome, 3 - RGB color)\n",
    "\n",
    "The convolution layers (1 and 2) uses 5x5 filters with a ReLU activation function and finally 2x2 max pool.\n",
    "\n",
    "The fully connected layer with 1024 neurons processes entier images.\n",
    "\n",
    "The dropout layer reduces overfitting before the output. \n",
    "\n",
    "The output layer returns the probability of the input image to be a digit of class 0 - 9. \n"
   ]
  },
  {
   "cell_type": "markdown",
   "metadata": {},
   "source": [
    "# Implementation"
   ]
  },
  {
   "cell_type": "code",
   "execution_count": 1,
   "metadata": {},
   "outputs": [],
   "source": [
    "import tensorflow as tf\n",
    "import numpy"
   ]
  },
  {
   "cell_type": "markdown",
   "metadata": {},
   "source": [
    "Import a MNIST dataset using helper function. The MNIST consists of\n",
    "* 55K points of traning dataset, `mnist.train`\n",
    "* 10K points of test dataset, `mnist.test`\n",
    "* 5K points of validation dataset, `mnist.validation`"
   ]
  },
  {
   "cell_type": "code",
   "execution_count": 2,
   "metadata": {},
   "outputs": [
    {
     "name": "stdout",
     "output_type": "stream",
     "text": [
      "Extracting /tmp/mnist/train-images-idx3-ubyte.gz\n",
      "Extracting /tmp/mnist/train-labels-idx1-ubyte.gz\n",
      "Extracting /tmp/mnist/t10k-images-idx3-ubyte.gz\n",
      "Extracting /tmp/mnist/t10k-labels-idx1-ubyte.gz\n"
     ]
    }
   ],
   "source": [
    "from tensorflow.examples.tutorials.mnist import input_data\n",
    "mnist = input_data.read_data_sets(\"/tmp/mnist\", one_hot=True)"
   ]
  },
  {
   "cell_type": "markdown",
   "metadata": {},
   "source": [
    "Creation of layers requires alot of weights, biases, convolutions, etc. The utility functions simplify the definition of network.  "
   ]
  },
  {
   "cell_type": "code",
   "execution_count": 3,
   "metadata": {
    "collapsed": true
   },
   "outputs": [],
   "source": [
    "def weights(spec):\n",
    "    initial = tf.truncated_normal(spec, stddev=0.1)\n",
    "    return tf.Variable(initial)\n",
    "\n",
    "def bias(spec):\n",
    "    initial = tf.constant(0.1, shape=spec)\n",
    "    return tf.Variable(initial)\n",
    "\n",
    "def conv2d(x, W, stride=(1, 1), padding='SAME'):\n",
    "    return tf.nn.conv2d(x, W, strides=[1, stride[0], stride[1], 1],\n",
    "                      padding=padding)\n",
    "\n",
    "\n",
    "def max_pool(x, ksize=(2, 2), stride=(2, 2)):\n",
    "    return tf.nn.max_pool(x, ksize=[1, ksize[0], ksize[1], 1],\n",
    "                        strides=[1, stride[0], stride[1], 1], padding='SAME')"
   ]
  },
  {
   "cell_type": "markdown",
   "metadata": {},
   "source": [
    "MNIST defines images as vector `[0,786]`. The convolution layer require 4d tensor, with image dimensions and color channels. The MNIST input is reshaped to required size."
   ]
  },
  {
   "cell_type": "code",
   "execution_count": 4,
   "metadata": {
    "collapsed": true
   },
   "outputs": [],
   "source": [
    "x = tf.placeholder(tf.float32, [None, 784])\n",
    "x_shape = tf.reshape(x, [-1, 28, 28, 1])"
   ]
  },
  {
   "cell_type": "markdown",
   "metadata": {},
   "source": [
    "The first layer is convolution, followed by max pooling. It computes 32 features for each 5x5 patch using 1 channel as input `[5, 5, 1, 32]`. The layer reduces and image dimension by 2 using max pool function."
   ]
  },
  {
   "cell_type": "code",
   "execution_count": 5,
   "metadata": {
    "collapsed": true
   },
   "outputs": [],
   "source": [
    "W1 = weights([5, 5, 1, 32])\n",
    "b1 = bias([32])\n",
    "\n",
    "Conv1 = tf.nn.relu(conv2d(x_shape, W1) + b1)\n",
    "Pool1 = max_pool(Conv1, ksize=(2, 2), stride=(2, 2))"
   ]
  },
  {
   "cell_type": "markdown",
   "metadata": {},
   "source": [
    "The deep network consist of multiple convolution layers. The second layer have 64 features for each 5x5 patch `[5, 5, 32, 64]` and so on."
   ]
  },
  {
   "cell_type": "code",
   "execution_count": 6,
   "metadata": {
    "collapsed": true
   },
   "outputs": [],
   "source": [
    "W2 = weights([5, 5, 32, 64])\n",
    "b2 = bias([64])\n",
    "\n",
    "Conv2 = tf.nn.relu(conv2d(Pool1, W2) + b2)\n",
    "Pool2 = max_pool(Conv2, ksize=(2, 2), stride=(2, 2))"
   ]
  },
  {
   "cell_type": "markdown",
   "metadata": {},
   "source": [
    "The convoluton operators reduces size of the image, while doing the feature extraction. The 28x28 MNIST image is reduces to 7x7 size. The fully connected layer with 1024 neurons to allow processing on the entire image. We reshape the tensor from the pooling layer into a batch of vectors, multiply by a weight matrix, add a bias, and apply a ReLU."
   ]
  },
  {
   "cell_type": "code",
   "execution_count": 7,
   "metadata": {
    "collapsed": true
   },
   "outputs": [],
   "source": [
    "W3 = weights([7 * 7 * 64, 1024])\n",
    "b3 = bias([1024])\n",
    "\n",
    "Flat3 = tf.reshape(Pool2, [-1, 7 * 7 * 64])\n",
    "HLay3 = tf.nn.relu(tf.matmul(Flat3, W3) + b3)"
   ]
  },
  {
   "cell_type": "markdown",
   "metadata": {},
   "source": [
    "The dropout layer reduces overfitting before the output. \n",
    "\n",
    "> Dropout is a regularization technique for reducing overfitting in neural networks by preventing complex co-adaptations on training data. It is a very efficient way of performing model averaging with neural networks. The term \"dropout\" refers to dropping out units (both hidden and visible) in a neural network.\n",
    "\n",
    "See some papers on the subject:\n",
    "* [Dropout: A Simple Way to Prevent Neural Networks from Overfitting](http://www.jmlr.org/papers/volume15/srivastava14a/srivastava14a.pdf)\n",
    "* [BAYESIAN CONVOLUTIONAL NEURAL NETWORKS WITH BERNOULLI APPROXIMATE VARIATIONAL INFERENCE](https://arxiv.org/pdf/1506.02158v6.pdf)"
   ]
  },
  {
   "cell_type": "code",
   "execution_count": 8,
   "metadata": {
    "collapsed": true
   },
   "outputs": [],
   "source": [
    "keep_prob = tf.placeholder(tf.float32)\n",
    "Drop = tf.nn.dropout(HLay3, keep_prob)"
   ]
  },
  {
   "cell_type": "markdown",
   "metadata": {},
   "source": [
    " The output returns the classification (similar to softmax regression)."
   ]
  },
  {
   "cell_type": "code",
   "execution_count": 9,
   "metadata": {},
   "outputs": [],
   "source": [
    "W5 = weights([1024, 10])\n",
    "b5 = bias([10])\n",
    "\n",
    "y = tf.matmul(Drop, W5) + b5\n",
    "y_truth = tf.placeholder(tf.float32, [None, 10])"
   ]
  },
  {
   "cell_type": "markdown",
   "metadata": {},
   "source": [
    "## Train model\n",
    "\n",
    "The training is similar to softmax regression model. The **cross-entropy** function defines the loss. The trainig using ADAM optimizer.\n",
    "\n",
    "The loss calculation uses `tf.nn.softmax_cross_entropy_with_logits` that is more numerically stable function. \n",
    "\n",
    "Note: the softmax_cross_entropy_with_logits is called on tf.matmul(x, W) + b. Compare it with the cross_entropy calculation used at TensorFlow MNIST Tutorial."
   ]
  },
  {
   "cell_type": "code",
   "execution_count": 10,
   "metadata": {
    "collapsed": true
   },
   "outputs": [],
   "source": [
    "loss  = tf.reduce_mean(tf.nn.softmax_cross_entropy_with_logits(labels=y_truth, logits=y))\n",
    "train = tf.train.AdamOptimizer(1e-4).minimize(loss)"
   ]
  },
  {
   "cell_type": "markdown",
   "metadata": {},
   "source": [
    "Training loop reports intermediate training progress using accuracy function."
   ]
  },
  {
   "cell_type": "code",
   "execution_count": 11,
   "metadata": {
    "collapsed": true
   },
   "outputs": [],
   "source": [
    "correct = tf.equal(tf.argmax(y, 1), tf.argmax(y_truth, 1))\n",
    "accuracy = tf.reduce_mean(tf.cast(correct, tf.float32))"
   ]
  },
  {
   "cell_type": "markdown",
   "metadata": {},
   "source": [
    "Train the model"
   ]
  },
  {
   "cell_type": "code",
   "execution_count": 12,
   "metadata": {
    "collapsed": true
   },
   "outputs": [],
   "source": [
    "session = tf.Session()\n",
    "globalv = tf.global_variables_initializer()\n",
    "\n",
    "session.run(globalv)"
   ]
  },
  {
   "cell_type": "markdown",
   "metadata": {},
   "source": [
    "Note: the original implementation use 20K itterations for training to reach max accuracy. We reduce it to 2.5K just to speed-up training on laptop."
   ]
  },
  {
   "cell_type": "code",
   "execution_count": 18,
   "metadata": {},
   "outputs": [
    {
     "name": "stdout",
     "output_type": "stream",
     "text": [
      "step 0, training accuracy 0.96\n",
      "step 100, training accuracy 0.98\n",
      "step 200, training accuracy 1\n",
      "step 300, training accuracy 0.98\n",
      "step 400, training accuracy 1\n",
      "step 500, training accuracy 0.94\n",
      "step 600, training accuracy 1\n",
      "step 700, training accuracy 1\n",
      "step 800, training accuracy 1\n",
      "step 900, training accuracy 0.94\n",
      "step 1000, training accuracy 0.98\n",
      "step 1100, training accuracy 1\n",
      "step 1200, training accuracy 0.96\n",
      "step 1300, training accuracy 0.98\n",
      "step 1400, training accuracy 1\n",
      "step 1500, training accuracy 0.98\n",
      "step 1600, training accuracy 0.98\n",
      "step 1700, training accuracy 0.94\n",
      "step 1800, training accuracy 1\n",
      "step 1900, training accuracy 1\n",
      "step 2000, training accuracy 0.96\n",
      "step 2100, training accuracy 1\n",
      "step 2200, training accuracy 1\n",
      "step 2300, training accuracy 1\n",
      "step 2400, training accuracy 0.98\n",
      "test accuracy 0.9869\n"
     ]
    }
   ],
   "source": [
    "for i in range(2500):\n",
    "    batch = mnist.train.next_batch(50)\n",
    "    if i % 100 == 0:\n",
    "        train_accuracy = session.run(accuracy, feed_dict={x: batch[0], y_truth: batch[1], keep_prob: 1.0})\n",
    "        print('step %d, training accuracy %g' % (i, train_accuracy))\n",
    "    session.run(train, feed_dict={x: batch[0], y_truth: batch[1], keep_prob: 0.5})"
   ]
  },
  {
   "cell_type": "code",
   "execution_count": 20,
   "metadata": {},
   "outputs": [
    {
     "name": "stdout",
     "output_type": "stream",
     "text": [
      "test accuracy 0.9869\n"
     ]
    }
   ],
   "source": [
    "print('test accuracy %g' % session.run(accuracy, feed_dict={x: mnist.test.images, y_truth: mnist.test.labels, keep_prob: 1.0}))"
   ]
  },
  {
   "cell_type": "markdown",
   "metadata": {},
   "source": [
    "## Evaluate model"
   ]
  },
  {
   "cell_type": "code",
   "execution_count": 19,
   "metadata": {},
   "outputs": [
    {
     "name": "stdout",
     "output_type": "stream",
     "text": [
      "[5 0 4 1 9 2 1 3 1 4 3 5 3 6 1 7 2 8 6 9 4 0 9 1 1 2 4 3 2 7 3 8 6 9 0 5 6\n",
      " 0 7 6 1 8]\n"
     ]
    }
   ],
   "source": [
    "classify = tf.argmax(tf.nn.softmax(y),1)\n",
    "size   = 42\n",
    "\n",
    "labels = session.run(classify, feed_dict={x: mnist.validation.images[:size], keep_prob: 1.0})\n",
    "\n",
    "print(labels)"
   ]
  },
  {
   "cell_type": "code",
   "execution_count": 17,
   "metadata": {},
   "outputs": [
    {
     "data": {
      "image/png": "[encoded data removed]",
      "text/plain": [
       "<matplotlib.figure.Figure at 0x11d424f98>"
      ]
     },
     "metadata": {},
     "output_type": "display_data"
    }
   ],
   "source": [
    "import matplotlib.pyplot as plt\n",
    "import numpy as np\n",
    "\n",
    "plt.figure(figsize=(15, 15))\n",
    "for i in range(0,size):\n",
    "    plt.subplot(6, 7, i + 1)\n",
    "\n",
    "    pixels = np.array(mnist.validation.images[i], dtype='float32')\n",
    "    pixels = pixels.reshape((28, 28))\n",
    "\n",
    "    plt.title('Class {label}'.format(label=labels[i]))\n",
    "    plt.imshow(pixels, cmap='gray')\n",
    "    \n",
    "plt.show()"
   ]
  },
  {
   "cell_type": "code",
   "execution_count": null,
   "metadata": {
    "collapsed": true
   },
   "outputs": [],
   "source": []
  }
 ],
 "metadata": {
  "kernelspec": {
   "display_name": "Python 3",
   "language": "python",
   "name": "python3"
  },
  "language_info": {
   "codemirror_mode": {
    "name": "ipython",
    "version": 3
   },
   "file_extension": ".py",
   "mimetype": "text/x-python",
   "name": "python",
   "nbconvert_exporter": "python",
   "pygments_lexer": "ipython3",
   "version": "3.6.2"
  }
 },
 "nbformat": 4,
 "nbformat_minor": 2
}
